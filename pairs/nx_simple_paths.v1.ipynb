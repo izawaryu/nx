{
 "cells": [
  {
   "cell_type": "code",
   "execution_count": 1,
   "metadata": {},
   "outputs": [],
   "source": [
    "'''\n",
    "Written by rizawa\n",
    "Written on 2018-06-08\n",
    "'''\n",
    "\n",
    "import matplotlib.pyplot as plt\n",
    "import networkx as nx\n",
    "import pandas as pd\n",
    "import numpy as np\n",
    "import psycopg2\n",
    "import json\n",
    "import os\n",
    "import re\n",
    "from datetime import date\n",
    "from datetime import datetime\n",
    "\n",
    "with open('/Users/rizawa/Code/config/settings.json') as config_file:\n",
    "    config = json.load(config_file)\n",
    "\n",
    "\n",
    "CONNECTION_PARAMETERS = config['dbs']\n",
    "\n",
    "HOST = CONNECTION_PARAMETERS['hostname']\n",
    "USER = CONNECTION_PARAMETERS['username']\n",
    "WORD = CONNECTION_PARAMETERS['password']\n",
    "DTBS = CONNECTION_PARAMETERS['database']\n",
    "PORT = CONNECTION_PARAMETERS['port']\n",
    "\n",
    "\n",
    "def execute_query(query):\n",
    "    connection = psycopg2.connect(host=HOST,user=USER,password=WORD,dbname=DTBS,port=PORT)\n",
    "    cur = connection.cursor()\n",
    "    cur.execute(query)\n",
    "    column_list = [c[0] for c in cur.description]\n",
    "    df_query = pd.DataFrame(cur.fetchall(), columns=column_list)\n",
    "    connection.close()\n",
    "    return df_query"
   ]
  },
  {
   "cell_type": "code",
   "execution_count": 2,
   "metadata": {},
   "outputs": [],
   "source": [
    "lucy = 41\n",
    "meg = 43\n",
    "blaine = 140535\n",
    "steph = 359269\n",
    "sal = 470987\n",
    "jonathan = 717168\n",
    "cecilia = 798523\n",
    "caroline = 800584\n",
    "allegra = 1309173\n",
    "rivka = 7229774\n",
    "tamichurns = 8137719\n",
    "lauren = 8850836\n",
    "kyra = 11020280\n",
    "tatum = 29511006\n",
    "tiffany = 29629049\n",
    "ryu = 30661306\n",
    "hyoju = 33668462\n",
    "spencer = 38231503\n",
    "tami = 46453526\n",
    "kaspar = 49582469\n",
    "norah = 93261038\n",
    "ray = 103718336\n",
    "pete = 114328697\n",
    "hannah = 120756882"
   ]
  },
  {
   "cell_type": "code",
   "execution_count": 42,
   "metadata": {},
   "outputs": [],
   "source": [
    "acct0 = ryu\n",
    "acct1 = norah"
   ]
  },
  {
   "cell_type": "code",
   "execution_count": 43,
   "metadata": {},
   "outputs": [],
   "source": [
    "def query_edges(incl=0,excl=0):\n",
    "    \n",
    "    query_str = \"\"\"\n",
    "    select distinct\n",
    "    events.account_id as a\n",
    "    ,guests.account_id as b\n",
    "    ,count(*) as bond\n",
    "    from paperless_public.events\n",
    "    join paperless_public.guests on events.id = guests.event_id \n",
    "    where events.account_id != guests.account_id\n",
    "    and guests.sent_at is not null\n",
    "    and events.account_id in (\"\"\" + str(incl) + \"\"\")\n",
    "    and guests.account_id not in (\"\"\" + str(excl) + \"\"\")\n",
    "    group by 1,2\n",
    "\n",
    "    union\n",
    "\n",
    "    select distinct\n",
    "    guests.account_id as a\n",
    "    ,events.account_id as b\n",
    "    ,count(*) as bond\n",
    "    from paperless_public.events\n",
    "    join paperless_public.guests on events.id = guests.event_id \n",
    "    where events.account_id != guests.account_id\n",
    "    and guests.sent_at is not null\n",
    "    and guests.account_id in (\"\"\" + str(incl) + \"\"\")\n",
    "    and events.account_id not in (\"\"\" + str(excl) + \"\"\")\n",
    "    group by 1,2\n",
    "    ;\n",
    "    \"\"\"\n",
    "    return query_str"
   ]
  },
  {
   "cell_type": "code",
   "execution_count": 44,
   "metadata": {},
   "outputs": [],
   "source": [
    "def find_path(edges_x, edges_y):\n",
    "\n",
    "    common_nodes = set(edges_x['b']) & set(edges_y['b'])\n",
    "\n",
    "    if not common_nodes:\n",
    "\n",
    "        incl = \",\".join(str(e) for e in edges_x['b'])\n",
    "        excl = \",\".join(str(e) for e in edges_x['a'])\n",
    "        str_query = query_edges(incl,excl)\n",
    "        edges_q = execute_query(str_query)\n",
    "        \n",
    "        incl = \",\".join(str(e) for e in edges_y['b'])\n",
    "        excl = \",\".join(str(e) for e in edges_y['a'])\n",
    "        str_query = query_edges(incl,excl)\n",
    "        edges_r = execute_query(str_query)\n",
    "        \n",
    "        beam = find_path(edges_q, edges_r)\n",
    "        # Merge and rename the columns so they can be merged later\n",
    "        fore = pd.merge(edges_x[['a','b']], beam, on='b', how='inner')\n",
    "        cols = ['a']\n",
    "        for c in range(2,len(fore.columns)):\n",
    "            cols.append(c)\n",
    "        cols.append('b')\n",
    "        fore.columns = cols\n",
    "        # Merge and rename the columns so they can be merged later\n",
    "        ship = pd.merge(fore, edges_y[['a','b']], on='b', how='inner')\n",
    "        cols = ['a']\n",
    "        for c in range(2,len(ship.columns)):\n",
    "            cols.append(c)\n",
    "        cols.append('b')\n",
    "        ship.columns = cols\n",
    "        \n",
    "    else:\n",
    "        \n",
    "        ship = pd.merge(edges_x, edges_y, on='b', how='inner')[['a_x','b','a_y']]\n",
    "        ship.columns = ['b','x','a']\n",
    "    \n",
    "    paths = ship\n",
    "    return paths"
   ]
  },
  {
   "cell_type": "code",
   "execution_count": 45,
   "metadata": {},
   "outputs": [
    {
     "name": "stdout",
     "output_type": "stream",
     "text": [
      "completed in: 0:00:04.906047\n"
     ]
    }
   ],
   "source": [
    "start_time = datetime.now()\n",
    "\n",
    "str_query = query_edges(str(acct0))\n",
    "edges_0 = execute_query(str_query)\n",
    "\n",
    "str_query = query_edges(str(acct1))\n",
    "edges_1 = execute_query(str_query)\n",
    "\n",
    "paths = find_path(edges_0, edges_1)\n",
    "# Renaming the columns for ease of use.\n",
    "cols = []\n",
    "for c in range(0,len(paths.columns)):\n",
    "    cols.append(c)\n",
    "paths.columns = cols\n",
    "\n",
    "# Reducing the accounts to unique account_ids,\n",
    "# then querying all edges involving these accounts.\n",
    "unique_accounts = pd.unique(paths.values.ravel('K'))\n",
    "str_acct = \",\".join(str(e) for e in unique_accounts)\n",
    "str_query = query_edges(str_acct)\n",
    "all_edges = execute_query(str_query)\n",
    "\n",
    "# Building the graph from the queried edges.\n",
    "G = nx.from_pandas_edgelist(all_edges, 'a', 'b', ['bond'])\n",
    "\n",
    "print('completed in: ' + str(datetime.now() - start_time))"
   ]
  },
  {
   "cell_type": "code",
   "execution_count": 46,
   "metadata": {},
   "outputs": [
    {
     "name": "stdout",
     "output_type": "stream",
     "text": [
      "[30661306, 109566339, 434609, 2324766, 93261038]\n",
      "[30661306, 109566339, 8554133, 2324766, 93261038]\n",
      "[30661306, 109566339, 2605321, 2324766, 93261038]\n",
      "completed in: 0:00:00.307077\n"
     ]
    }
   ],
   "source": [
    "start_time = datetime.now()\n",
    "\n",
    "str_query = query_edges(str_acct)\n",
    "path_edges = execute_query(str_query)\n",
    "\n",
    "for path in nx.all_simple_paths(G, source=acct0, target=acct1, cutoff=4):\n",
    "    print(path)\n",
    "\n",
    "print('completed in: ' + str(datetime.now() - start_time))"
   ]
  },
  {
   "cell_type": "code",
   "execution_count": 47,
   "metadata": {},
   "outputs": [],
   "source": [
    "def query_paths(incl=0):\n",
    "    query_str = \"\"\"\n",
    "    SELECT\n",
    "        guests.account_id as a\n",
    "        ,events.account_id as b\n",
    "        ,count(*) as bond\n",
    "    FROM guests\n",
    "    JOIN events ON events.id = guests.event_id\n",
    "    WHERE guests.sent_at IS NOT null\n",
    "    AND guests.account_id IN (\"\"\" + incl + \"\"\")\n",
    "    AND events.account_id IN (\"\"\" + incl + \"\"\")\n",
    "    GROUP BY 1,2\n",
    "    ;\n",
    "    \"\"\"\n",
    "    return query_str"
   ]
  },
  {
   "cell_type": "code",
   "execution_count": 48,
   "metadata": {},
   "outputs": [],
   "source": [
    "def query_accounts(incl=0):\n",
    "    query_str = \"\"\"\n",
    "    SELECT\n",
    "    accounts.id\n",
    "    ,accounts.display_name\n",
    "    ,email.email_address\n",
    "    FROM accounts\n",
    "    JOIN email_addresses email ON email.account_id = accounts.id\n",
    "    WHERE accounts.id IN (\"\"\" + incl + \"\"\")\n",
    "    ;\n",
    "    \"\"\"\n",
    "    return query_str"
   ]
  },
  {
   "cell_type": "code",
   "execution_count": 49,
   "metadata": {},
   "outputs": [
    {
     "name": "stdout",
     "output_type": "stream",
     "text": [
      "completed in: 0:00:06.703426\n"
     ]
    },
    {
     "data": {
      "image/png": "[encoded data removed]",
      "text/plain": [
       "<matplotlib.figure.Figure at 0x117c0d630>"
      ]
     },
     "metadata": {},
     "output_type": "display_data"
    }
   ],
   "source": [
    "start_time = datetime.now()\n",
    "\n",
    "str_query = query_paths(str_acct)\n",
    "path_edges = execute_query(str_query)\n",
    "\n",
    "G_paths = nx.from_pandas_edgelist(path_edges, 'a', 'b', ['bond'])\n",
    "\n",
    "pos = nx.spring_layout(G_paths)\n",
    "plt.figure(1,figsize=(15,15))\n",
    "plt.subplot(111)\n",
    "nx.draw(G_paths,pos,node_size=20,edge_color='b')\n",
    "\n",
    "# Create the networkx diagram labels from the list of emails.\n",
    "str_query = query_accounts(str_acct)\n",
    "all_accounts = execute_query(str_query)\n",
    "emails = all_accounts['email_address']\n",
    "\n",
    "labels = {}\n",
    "for idx,val in enumerate(all_accounts['id']):\n",
    "    labels[val] = r'$'+emails[idx]+'$'\n",
    "# Draw the labels\n",
    "nx.draw_networkx_labels(G,pos,labels)\n",
    "\n",
    "print('completed in: ' + str(datetime.now() - start_time))"
   ]
  },
  {
   "cell_type": "code",
   "execution_count": null,
   "metadata": {},
   "outputs": [],
   "source": []
  }
 ],
 "metadata": {
  "kernelspec": {
   "display_name": "Python 3",
   "language": "python",
   "name": "python3"
  },
  "language_info": {
   "codemirror_mode": {
    "name": "ipython",
    "version": 3
   },
   "file_extension": ".py",
   "mimetype": "text/x-python",
   "name": "python",
   "nbconvert_exporter": "python",
   "pygments_lexer": "ipython3",
   "version": "3.6.4"
  }
 },
 "nbformat": 4,
 "nbformat_minor": 2
}
